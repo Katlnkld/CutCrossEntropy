{
  "cells": [
    {
      "cell_type": "code",
      "execution_count": null,
      "metadata": {},
      "outputs": [],
      "source": [
        "#!pip install \"cut-cross-entropy @ git+https://github.com/apple/ml-cross-entropy.git\""
      ]
    },
    {
      "cell_type": "markdown",
      "metadata": {
        "id": "fDN-xuRUF1yG"
      },
      "source": [
        "# Обучение и тестирование модели SaSRec с лоссами CE и CCE на датасете Beauty"
      ]
    },
    {
      "cell_type": "markdown",
      "metadata": {
        "id": "szk2lnw8GE_H"
      },
      "source": [
        "### 1. Импорты"
      ]
    },
    {
      "cell_type": "code",
      "execution_count": null,
      "metadata": {
        "id": "qZ41WqxQeoZ7"
      },
      "outputs": [],
      "source": [
        "import os\n",
        "\n",
        "project_path = '/content/drive/MyDrive/CutCrossEntropy'\n",
        "os.chdir(project_path)"
      ]
    },
    {
      "cell_type": "code",
      "execution_count": null,
      "metadata": {
        "id": "AnRKyd-pvGnm"
      },
      "outputs": [],
      "source": [
        "import torch\n",
        "import pandas as pd\n",
        "\n",
        "from src.model import SASRec\n",
        "from src.train import run_training\n",
        "from src.dataset import prepare_data, build_dataset, SASRecDataset\n",
        "from src.evaluate import evaluate\n",
        "from src.metrics import Metrics\n",
        "from src.utils import plot_loss"
      ]
    },
    {
      "cell_type": "code",
      "execution_count": null,
      "metadata": {
        "id": "d7NAglcbBcCE"
      },
      "outputs": [],
      "source": [
        "import logging\n",
        "\n",
        "for handler in logging.root.handlers[:]:\n",
        "    logging.root.removeHandler(handler)\n",
        "\n",
        "logging.basicConfig(\n",
        "    level=logging.INFO,\n",
        "    format='%(asctime)s [%(levelname)s] %(message)s'\n",
        ")\n",
        "\n",
        "logger = logging.getLogger(__name__)"
      ]
    },
    {
      "cell_type": "code",
      "execution_count": null,
      "metadata": {
        "colab": {
          "base_uri": "https://localhost:8080/"
        },
        "id": "RJiJeKD5sqqU",
        "outputId": "2adb07ef-0f2f-460d-a4e7-0b23deea1ae8"
      },
      "outputs": [
        {
          "name": "stdout",
          "output_type": "stream",
          "text": [
            "Wed Jul 30 22:03:00 2025       \n",
            "+-----------------------------------------------------------------------------------------+\n",
            "| NVIDIA-SMI 550.54.15              Driver Version: 550.54.15      CUDA Version: 12.4     |\n",
            "|-----------------------------------------+------------------------+----------------------+\n",
            "| GPU  Name                 Persistence-M | Bus-Id          Disp.A | Volatile Uncorr. ECC |\n",
            "| Fan  Temp   Perf          Pwr:Usage/Cap |           Memory-Usage | GPU-Util  Compute M. |\n",
            "|                                         |                        |               MIG M. |\n",
            "|=========================================+========================+======================|\n",
            "|   0  Tesla T4                       Off |   00000000:00:04.0 Off |                    0 |\n",
            "| N/A   41C    P8              9W /   70W |       0MiB /  15360MiB |      0%      Default |\n",
            "|                                         |                        |                  N/A |\n",
            "+-----------------------------------------+------------------------+----------------------+\n",
            "                                                                                         \n",
            "+-----------------------------------------------------------------------------------------+\n",
            "| Processes:                                                                              |\n",
            "|  GPU   GI   CI        PID   Type   Process name                              GPU Memory |\n",
            "|        ID   ID                                                               Usage      |\n",
            "|=========================================================================================|\n",
            "|  No running processes found                                                             |\n",
            "+-----------------------------------------------------------------------------------------+\n"
          ]
        }
      ],
      "source": [
        "!nvidia-smi"
      ]
    },
    {
      "cell_type": "markdown",
      "metadata": {
        "id": "qWpUbk2yGNdH"
      },
      "source": [
        "### 2. Обработка и подготовка данных"
      ]
    },
    {
      "cell_type": "markdown",
      "metadata": {
        "id": "sESQ4g8RdhEn"
      },
      "source": [
        "Датасет Beauty"
      ]
    },
    {
      "cell_type": "code",
      "execution_count": null,
      "metadata": {
        "colab": {
          "base_uri": "https://localhost:8080/"
        },
        "id": "mbRQfxFlUmL5",
        "outputId": "feaa5ce5-cef7-4f69-bfea-aa9290940613"
      },
      "outputs": [
        {
          "data": {
            "text/plain": [
              "(6624441, 3)"
            ]
          },
          "execution_count": 9,
          "metadata": {},
          "output_type": "execute_result"
        }
      ],
      "source": [
        "path_dataset = 'data/Beauty_and_Personal_Care.csv'\n",
        "df = pd.read_csv(path_dataset)\n",
        "\n",
        "df = df[['user_id','parent_asin','timestamp']]\n",
        "df.columns = ['user_id', 'item_id', 'datetime']\n",
        "\n",
        "df.shape"
      ]
    },
    {
      "cell_type": "code",
      "execution_count": null,
      "metadata": {
        "colab": {
          "base_uri": "https://localhost:8080/"
        },
        "id": "uHu2dF_PuNII",
        "outputId": "a456398f-08eb-470d-902e-7d0adc44bba9"
      },
      "outputs": [
        {
          "name": "stderr",
          "output_type": "stream",
          "text": [
            "2025-07-30 22:03:55,202 [INFO] Maximum sequence length = 50, batch size = 256\n",
            "2025-07-30 22:03:55,203 [INFO] Filter users with interactions < 3 and items with interactions < 3\n",
            "2025-07-30 22:04:00,759 [INFO] Encoding\n",
            "2025-07-30 22:04:09,113 [INFO] N users: 729576, N items: 207649\n",
            "2025-07-30 22:04:09,114 [INFO] Groupping\n"
          ]
        },
        {
          "name": "stdout",
          "output_type": "stream",
          "text": [
            "Seqs: torch.Size([256, 49])\n",
            "Targets: torch.Size([256])\n"
          ]
        }
      ],
      "source": [
        "max_len = 50 #512\n",
        "batch_size = 256\n",
        "logger.info(f'Maximum sequence length = {max_len}, batch size = {batch_size}')\n",
        "# Загрузка\n",
        "user_seqs, num_users, num_items, _, _ = prepare_data(df, min_user_inter=3, min_item_inter=3)\n",
        "\n",
        "# Сплиты\n",
        "train_data, val_data, test_data = build_dataset(user_seqs, max_len=max_len)\n",
        "\n",
        "# Dataset и DataLoader\n",
        "train_dataset = SASRecDataset(train_data, max_len=max_len, num_items=num_items)\n",
        "train_loader = torch.utils.data.DataLoader(train_dataset, batch_size=batch_size, shuffle=True)\n",
        "\n",
        "val_dataset = SASRecDataset(val_data, max_len=max_len, num_items=num_items)\n",
        "val_loader = torch.utils.data.DataLoader(val_dataset, batch_size=batch_size, shuffle=True)\n",
        "\n",
        "test_dataset = SASRecDataset(test_data, max_len=max_len, num_items=num_items)\n",
        "test_loader = torch.utils.data.DataLoader(test_dataset, batch_size=batch_size, shuffle=True)\n",
        "\n",
        "# Пример\n",
        "for batch in train_loader:\n",
        "    _, seqs, targets = batch\n",
        "    print(\"Seqs:\", seqs.shape)       # [B, T]\n",
        "    print(\"Targets:\", targets.shape) # [B]\n",
        "    break"
      ]
    },
    {
      "cell_type": "markdown",
      "metadata": {
        "id": "Eput7R2wGVhP"
      },
      "source": [
        "### 3. Обучение"
      ]
    },
    {
      "cell_type": "code",
      "execution_count": null,
      "metadata": {
        "colab": {
          "base_uri": "https://localhost:8080/"
        },
        "id": "Grdxh4szqyDO",
        "outputId": "a6a6d319-21ea-42f5-9c31-d9128f176f87"
      },
      "outputs": [
        {
          "name": "stdout",
          "output_type": "stream",
          "text": [
            "Обучение на cuda\n"
          ]
        }
      ],
      "source": [
        "device = torch.device('cuda' if torch.cuda.is_available() else 'cpu')\n",
        "print(\"Обучение на\",device)"
      ]
    },
    {
      "cell_type": "markdown",
      "metadata": {
        "id": "ptgkSPykGZLd"
      },
      "source": [
        "#### 3.1 CE Loss"
      ]
    },
    {
      "cell_type": "code",
      "execution_count": null,
      "metadata": {
        "colab": {
          "base_uri": "https://localhost:8080/"
        },
        "id": "xeaDH--9KHdP",
        "outputId": "37f33fa9-08b4-4dfd-eeed-7d74dedbe8f8"
      },
      "outputs": [
        {
          "name": "stdout",
          "output_type": "stream",
          "text": [
            "cuda\n"
          ]
        },
        {
          "name": "stderr",
          "output_type": "stream",
          "text": [
            "2025-07-30 22:04:41,604 [INFO] Loss = CE\n",
            "Epoch 1: 100%|██████████| 2850/2850 [01:47<00:00, 26.50it/s, loss=12.8888]\n"
          ]
        },
        {
          "name": "stdout",
          "output_type": "stream",
          "text": [
            "{'train_loss': 12.8641, 'train_time_s': 107.57, 'val_loss': 11.4656, 'val_time_s': 42.07, 'epoch': 1}\n"
          ]
        },
        {
          "name": "stderr",
          "output_type": "stream",
          "text": [
            "Epoch 2: 100%|██████████| 2850/2850 [01:44<00:00, 27.17it/s, loss=11.0916]\n"
          ]
        },
        {
          "name": "stdout",
          "output_type": "stream",
          "text": [
            "{'train_loss': 11.0904, 'train_time_s': 104.91, 'val_loss': 11.2285, 'val_time_s': 42.19, 'epoch': 2}\n"
          ]
        },
        {
          "name": "stderr",
          "output_type": "stream",
          "text": [
            "Epoch 3: 100%|██████████| 2850/2850 [01:44<00:00, 27.18it/s, loss=10.9300]\n"
          ]
        },
        {
          "name": "stdout",
          "output_type": "stream",
          "text": [
            "{'train_loss': 10.9298, 'train_time_s': 104.86, 'val_loss': 11.2195, 'val_time_s': 45.56, 'epoch': 3}\n"
          ]
        },
        {
          "name": "stderr",
          "output_type": "stream",
          "text": [
            "Epoch 4: 100%|██████████| 2850/2850 [01:46<00:00, 26.79it/s, loss=10.8820]\n"
          ]
        },
        {
          "name": "stdout",
          "output_type": "stream",
          "text": [
            "{'train_loss': 10.8825, 'train_time_s': 106.38, 'val_loss': 11.1904, 'val_time_s': 43.73, 'epoch': 4}\n"
          ]
        },
        {
          "name": "stderr",
          "output_type": "stream",
          "text": [
            "Epoch 5: 100%|██████████| 2850/2850 [01:45<00:00, 27.14it/s, loss=10.8536]\n",
            "2025-07-30 22:17:05,886 [INFO] Peak GPU memory = 1.0849 GB\n"
          ]
        },
        {
          "name": "stdout",
          "output_type": "stream",
          "text": [
            "{'train_loss': 10.8542, 'train_time_s': 105.01, 'val_loss': 11.1903, 'val_time_s': 42.0, 'epoch': 5}\n"
          ]
        }
      ],
      "source": [
        "model_ce, res_ce, mem_ce = run_training(\n",
        "    model_class=SASRec,\n",
        "    num_items=num_items,\n",
        "    train_loader=train_loader,\n",
        "    val_loader=val_loader,\n",
        "    loss_type='CE',\n",
        "    device=device,\n",
        "    n_epochs=5,\n",
        "    hidden_dim=64,\n",
        "    max_len=max_len,\n",
        "    lr=0.001\n",
        ")\n"
      ]
    },
    {
      "cell_type": "code",
      "execution_count": null,
      "metadata": {
        "colab": {
          "base_uri": "https://localhost:8080/",
          "height": 204
        },
        "id": "yulEqYq8M-t7",
        "outputId": "2ac55feb-0f43-4250-b6b5-14546cfa5dec"
      },
      "outputs": [
        {
          "data": {
            "application/vnd.google.colaboratory.intrinsic+json": {
              "summary": "{\n  \"name\": \"res_ce\",\n  \"rows\": 5,\n  \"fields\": [\n    {\n      \"column\": \"train_loss\",\n      \"properties\": {\n        \"dtype\": \"number\",\n        \"std\": 0.8656651633281774,\n        \"min\": 10.8542,\n        \"max\": 12.8641,\n        \"num_unique_values\": 5,\n        \"samples\": [\n          11.0904,\n          10.8542,\n          10.9298\n        ],\n        \"semantic_type\": \"\",\n        \"description\": \"\"\n      }\n    },\n    {\n      \"column\": \"train_time_s\",\n      \"properties\": {\n        \"dtype\": \"number\",\n        \"std\": 1.1994290308309168,\n        \"min\": 104.86,\n        \"max\": 107.57,\n        \"num_unique_values\": 5,\n        \"samples\": [\n          104.91,\n          105.01,\n          104.86\n        ],\n        \"semantic_type\": \"\",\n        \"description\": \"\"\n      }\n    },\n    {\n      \"column\": \"val_loss\",\n      \"properties\": {\n        \"dtype\": \"number\",\n        \"std\": 0.11683279933306395,\n        \"min\": 11.1903,\n        \"max\": 11.4656,\n        \"num_unique_values\": 5,\n        \"samples\": [\n          11.2285,\n          11.1903,\n          11.2195\n        ],\n        \"semantic_type\": \"\",\n        \"description\": \"\"\n      }\n    },\n    {\n      \"column\": \"val_time_s\",\n      \"properties\": {\n        \"dtype\": \"number\",\n        \"std\": 1.5449110006728553,\n        \"min\": 42.0,\n        \"max\": 45.56,\n        \"num_unique_values\": 5,\n        \"samples\": [\n          42.19,\n          42.0,\n          45.56\n        ],\n        \"semantic_type\": \"\",\n        \"description\": \"\"\n      }\n    },\n    {\n      \"column\": \"epoch\",\n      \"properties\": {\n        \"dtype\": \"number\",\n        \"std\": 1,\n        \"min\": 1,\n        \"max\": 5,\n        \"num_unique_values\": 5,\n        \"samples\": [\n          2,\n          5,\n          3\n        ],\n        \"semantic_type\": \"\",\n        \"description\": \"\"\n      }\n    }\n  ]\n}",
              "type": "dataframe",
              "variable_name": "res_ce"
            },
            "text/html": [
              "\n",
              "  <div id=\"df-f57ea0f5-ed31-46cd-9c73-a46fd7bf3872\" class=\"colab-df-container\">\n",
              "    <div>\n",
              "<style scoped>\n",
              "    .dataframe tbody tr th:only-of-type {\n",
              "        vertical-align: middle;\n",
              "    }\n",
              "\n",
              "    .dataframe tbody tr th {\n",
              "        vertical-align: top;\n",
              "    }\n",
              "\n",
              "    .dataframe thead th {\n",
              "        text-align: right;\n",
              "    }\n",
              "</style>\n",
              "<table border=\"1\" class=\"dataframe\">\n",
              "  <thead>\n",
              "    <tr style=\"text-align: right;\">\n",
              "      <th></th>\n",
              "      <th>train_loss</th>\n",
              "      <th>train_time_s</th>\n",
              "      <th>val_loss</th>\n",
              "      <th>val_time_s</th>\n",
              "      <th>epoch</th>\n",
              "    </tr>\n",
              "  </thead>\n",
              "  <tbody>\n",
              "    <tr>\n",
              "      <th>0</th>\n",
              "      <td>12.8641</td>\n",
              "      <td>107.57</td>\n",
              "      <td>11.4656</td>\n",
              "      <td>42.07</td>\n",
              "      <td>1</td>\n",
              "    </tr>\n",
              "    <tr>\n",
              "      <th>1</th>\n",
              "      <td>11.0904</td>\n",
              "      <td>104.91</td>\n",
              "      <td>11.2285</td>\n",
              "      <td>42.19</td>\n",
              "      <td>2</td>\n",
              "    </tr>\n",
              "    <tr>\n",
              "      <th>2</th>\n",
              "      <td>10.9298</td>\n",
              "      <td>104.86</td>\n",
              "      <td>11.2195</td>\n",
              "      <td>45.56</td>\n",
              "      <td>3</td>\n",
              "    </tr>\n",
              "    <tr>\n",
              "      <th>3</th>\n",
              "      <td>10.8825</td>\n",
              "      <td>106.38</td>\n",
              "      <td>11.1904</td>\n",
              "      <td>43.73</td>\n",
              "      <td>4</td>\n",
              "    </tr>\n",
              "    <tr>\n",
              "      <th>4</th>\n",
              "      <td>10.8542</td>\n",
              "      <td>105.01</td>\n",
              "      <td>11.1903</td>\n",
              "      <td>42.00</td>\n",
              "      <td>5</td>\n",
              "    </tr>\n",
              "  </tbody>\n",
              "</table>\n",
              "</div>\n",
              "    <div class=\"colab-df-buttons\">\n",
              "\n",
              "  <div class=\"colab-df-container\">\n",
              "    <button class=\"colab-df-convert\" onclick=\"convertToInteractive('df-f57ea0f5-ed31-46cd-9c73-a46fd7bf3872')\"\n",
              "            title=\"Convert this dataframe to an interactive table.\"\n",
              "            style=\"display:none;\">\n",
              "\n",
              "  <svg xmlns=\"http://www.w3.org/2000/svg\" height=\"24px\" viewBox=\"0 -960 960 960\">\n",
              "    <path d=\"M120-120v-720h720v720H120Zm60-500h600v-160H180v160Zm220 220h160v-160H400v160Zm0 220h160v-160H400v160ZM180-400h160v-160H180v160Zm440 0h160v-160H620v160ZM180-180h160v-160H180v160Zm440 0h160v-160H620v160Z\"/>\n",
              "  </svg>\n",
              "    </button>\n",
              "\n",
              "  <style>\n",
              "    .colab-df-container {\n",
              "      display:flex;\n",
              "      gap: 12px;\n",
              "    }\n",
              "\n",
              "    .colab-df-convert {\n",
              "      background-color: #E8F0FE;\n",
              "      border: none;\n",
              "      border-radius: 50%;\n",
              "      cursor: pointer;\n",
              "      display: none;\n",
              "      fill: #1967D2;\n",
              "      height: 32px;\n",
              "      padding: 0 0 0 0;\n",
              "      width: 32px;\n",
              "    }\n",
              "\n",
              "    .colab-df-convert:hover {\n",
              "      background-color: #E2EBFA;\n",
              "      box-shadow: 0px 1px 2px rgba(60, 64, 67, 0.3), 0px 1px 3px 1px rgba(60, 64, 67, 0.15);\n",
              "      fill: #174EA6;\n",
              "    }\n",
              "\n",
              "    .colab-df-buttons div {\n",
              "      margin-bottom: 4px;\n",
              "    }\n",
              "\n",
              "    [theme=dark] .colab-df-convert {\n",
              "      background-color: #3B4455;\n",
              "      fill: #D2E3FC;\n",
              "    }\n",
              "\n",
              "    [theme=dark] .colab-df-convert:hover {\n",
              "      background-color: #434B5C;\n",
              "      box-shadow: 0px 1px 3px 1px rgba(0, 0, 0, 0.15);\n",
              "      filter: drop-shadow(0px 1px 2px rgba(0, 0, 0, 0.3));\n",
              "      fill: #FFFFFF;\n",
              "    }\n",
              "  </style>\n",
              "\n",
              "    <script>\n",
              "      const buttonEl =\n",
              "        document.querySelector('#df-f57ea0f5-ed31-46cd-9c73-a46fd7bf3872 button.colab-df-convert');\n",
              "      buttonEl.style.display =\n",
              "        google.colab.kernel.accessAllowed ? 'block' : 'none';\n",
              "\n",
              "      async function convertToInteractive(key) {\n",
              "        const element = document.querySelector('#df-f57ea0f5-ed31-46cd-9c73-a46fd7bf3872');\n",
              "        const dataTable =\n",
              "          await google.colab.kernel.invokeFunction('convertToInteractive',\n",
              "                                                    [key], {});\n",
              "        if (!dataTable) return;\n",
              "\n",
              "        const docLinkHtml = 'Like what you see? Visit the ' +\n",
              "          '<a target=\"_blank\" href=https://colab.research.google.com/notebooks/data_table.ipynb>data table notebook</a>'\n",
              "          + ' to learn more about interactive tables.';\n",
              "        element.innerHTML = '';\n",
              "        dataTable['output_type'] = 'display_data';\n",
              "        await google.colab.output.renderOutput(dataTable, element);\n",
              "        const docLink = document.createElement('div');\n",
              "        docLink.innerHTML = docLinkHtml;\n",
              "        element.appendChild(docLink);\n",
              "      }\n",
              "    </script>\n",
              "  </div>\n",
              "\n",
              "\n",
              "    <div id=\"df-456673fc-e413-4bf2-b713-62d11be7b78c\">\n",
              "      <button class=\"colab-df-quickchart\" onclick=\"quickchart('df-456673fc-e413-4bf2-b713-62d11be7b78c')\"\n",
              "                title=\"Suggest charts\"\n",
              "                style=\"display:none;\">\n",
              "\n",
              "<svg xmlns=\"http://www.w3.org/2000/svg\" height=\"24px\"viewBox=\"0 0 24 24\"\n",
              "     width=\"24px\">\n",
              "    <g>\n",
              "        <path d=\"M19 3H5c-1.1 0-2 .9-2 2v14c0 1.1.9 2 2 2h14c1.1 0 2-.9 2-2V5c0-1.1-.9-2-2-2zM9 17H7v-7h2v7zm4 0h-2V7h2v10zm4 0h-2v-4h2v4z\"/>\n",
              "    </g>\n",
              "</svg>\n",
              "      </button>\n",
              "\n",
              "<style>\n",
              "  .colab-df-quickchart {\n",
              "      --bg-color: #E8F0FE;\n",
              "      --fill-color: #1967D2;\n",
              "      --hover-bg-color: #E2EBFA;\n",
              "      --hover-fill-color: #174EA6;\n",
              "      --disabled-fill-color: #AAA;\n",
              "      --disabled-bg-color: #DDD;\n",
              "  }\n",
              "\n",
              "  [theme=dark] .colab-df-quickchart {\n",
              "      --bg-color: #3B4455;\n",
              "      --fill-color: #D2E3FC;\n",
              "      --hover-bg-color: #434B5C;\n",
              "      --hover-fill-color: #FFFFFF;\n",
              "      --disabled-bg-color: #3B4455;\n",
              "      --disabled-fill-color: #666;\n",
              "  }\n",
              "\n",
              "  .colab-df-quickchart {\n",
              "    background-color: var(--bg-color);\n",
              "    border: none;\n",
              "    border-radius: 50%;\n",
              "    cursor: pointer;\n",
              "    display: none;\n",
              "    fill: var(--fill-color);\n",
              "    height: 32px;\n",
              "    padding: 0;\n",
              "    width: 32px;\n",
              "  }\n",
              "\n",
              "  .colab-df-quickchart:hover {\n",
              "    background-color: var(--hover-bg-color);\n",
              "    box-shadow: 0 1px 2px rgba(60, 64, 67, 0.3), 0 1px 3px 1px rgba(60, 64, 67, 0.15);\n",
              "    fill: var(--button-hover-fill-color);\n",
              "  }\n",
              "\n",
              "  .colab-df-quickchart-complete:disabled,\n",
              "  .colab-df-quickchart-complete:disabled:hover {\n",
              "    background-color: var(--disabled-bg-color);\n",
              "    fill: var(--disabled-fill-color);\n",
              "    box-shadow: none;\n",
              "  }\n",
              "\n",
              "  .colab-df-spinner {\n",
              "    border: 2px solid var(--fill-color);\n",
              "    border-color: transparent;\n",
              "    border-bottom-color: var(--fill-color);\n",
              "    animation:\n",
              "      spin 1s steps(1) infinite;\n",
              "  }\n",
              "\n",
              "  @keyframes spin {\n",
              "    0% {\n",
              "      border-color: transparent;\n",
              "      border-bottom-color: var(--fill-color);\n",
              "      border-left-color: var(--fill-color);\n",
              "    }\n",
              "    20% {\n",
              "      border-color: transparent;\n",
              "      border-left-color: var(--fill-color);\n",
              "      border-top-color: var(--fill-color);\n",
              "    }\n",
              "    30% {\n",
              "      border-color: transparent;\n",
              "      border-left-color: var(--fill-color);\n",
              "      border-top-color: var(--fill-color);\n",
              "      border-right-color: var(--fill-color);\n",
              "    }\n",
              "    40% {\n",
              "      border-color: transparent;\n",
              "      border-right-color: var(--fill-color);\n",
              "      border-top-color: var(--fill-color);\n",
              "    }\n",
              "    60% {\n",
              "      border-color: transparent;\n",
              "      border-right-color: var(--fill-color);\n",
              "    }\n",
              "    80% {\n",
              "      border-color: transparent;\n",
              "      border-right-color: var(--fill-color);\n",
              "      border-bottom-color: var(--fill-color);\n",
              "    }\n",
              "    90% {\n",
              "      border-color: transparent;\n",
              "      border-bottom-color: var(--fill-color);\n",
              "    }\n",
              "  }\n",
              "</style>\n",
              "\n",
              "      <script>\n",
              "        async function quickchart(key) {\n",
              "          const quickchartButtonEl =\n",
              "            document.querySelector('#' + key + ' button');\n",
              "          quickchartButtonEl.disabled = true;  // To prevent multiple clicks.\n",
              "          quickchartButtonEl.classList.add('colab-df-spinner');\n",
              "          try {\n",
              "            const charts = await google.colab.kernel.invokeFunction(\n",
              "                'suggestCharts', [key], {});\n",
              "          } catch (error) {\n",
              "            console.error('Error during call to suggestCharts:', error);\n",
              "          }\n",
              "          quickchartButtonEl.classList.remove('colab-df-spinner');\n",
              "          quickchartButtonEl.classList.add('colab-df-quickchart-complete');\n",
              "        }\n",
              "        (() => {\n",
              "          let quickchartButtonEl =\n",
              "            document.querySelector('#df-456673fc-e413-4bf2-b713-62d11be7b78c button');\n",
              "          quickchartButtonEl.style.display =\n",
              "            google.colab.kernel.accessAllowed ? 'block' : 'none';\n",
              "        })();\n",
              "      </script>\n",
              "    </div>\n",
              "    </div>\n",
              "  </div>\n"
            ],
            "text/plain": [
              "   train_loss  train_time_s  val_loss  val_time_s  epoch\n",
              "0     12.8641        107.57   11.4656       42.07      1\n",
              "1     11.0904        104.91   11.2285       42.19      2\n",
              "2     10.9298        104.86   11.2195       45.56      3\n",
              "3     10.8825        106.38   11.1904       43.73      4\n",
              "4     10.8542        105.01   11.1903       42.00      5"
            ]
          },
          "execution_count": 13,
          "metadata": {},
          "output_type": "execute_result"
        }
      ],
      "source": [
        "res_ce"
      ]
    },
    {
      "cell_type": "code",
      "execution_count": null,
      "metadata": {
        "colab": {
          "base_uri": "https://localhost:8080/"
        },
        "id": "enn1ve0_NURX",
        "outputId": "1d0db1fa-7044-428c-b6ac-67fb34f9a4d0"
      },
      "outputs": [
        {
          "name": "stdout",
          "output_type": "stream",
          "text": [
            "Среднее время обучения на одну эпоху = 105 с\n",
            "Максимальная память = 1.084890365600586 ГБ\n"
          ]
        }
      ],
      "source": [
        "print(f'Среднее время обучения на одну эпоху = {int(res_ce.train_time_s.mean())} с')\n",
        "print(f'Максимальная память = {mem_ce} ГБ')"
      ]
    },
    {
      "cell_type": "code",
      "execution_count": null,
      "metadata": {
        "colab": {
          "base_uri": "https://localhost:8080/",
          "height": 393
        },
        "id": "VC5HH9DROOAj",
        "outputId": "1aa117e7-7902-401a-b156-47fbacf0f741"
      },
      "outputs": [
        {
          "data": {
            "image/png": "[encoded data removed]",
            "text/plain": [
              "<Figure size 800x400 with 1 Axes>"
            ]
          },
          "metadata": {},
          "output_type": "display_data"
        }
      ],
      "source": [
        "plot_loss(res_ce)"
      ]
    },
    {
      "cell_type": "markdown",
      "metadata": {
        "id": "wbv6qXbfGisj"
      },
      "source": [
        "#### 3.2 CCE Loss"
      ]
    },
    {
      "cell_type": "code",
      "execution_count": null,
      "metadata": {
        "colab": {
          "base_uri": "https://localhost:8080/"
        },
        "id": "2OjV3aMINVPh",
        "outputId": "53de3dee-3d34-448b-b90e-c489e29d4231"
      },
      "outputs": [
        {
          "name": "stderr",
          "output_type": "stream",
          "text": [
            "2025-07-30 22:29:29,738 [INFO] Loss = CCE\n"
          ]
        },
        {
          "name": "stdout",
          "output_type": "stream",
          "text": [
            "cuda\n"
          ]
        },
        {
          "name": "stderr",
          "output_type": "stream",
          "text": [
            "Epoch 1: 100%|██████████| 2850/2850 [01:17<00:00, 36.80it/s, loss=21.7449]\n"
          ]
        },
        {
          "name": "stdout",
          "output_type": "stream",
          "text": [
            "{'train_loss': 21.6363, 'train_time_s': 77.45, 'val_loss': 15.0847, 'val_time_s': 33.73, 'epoch': 1}\n"
          ]
        },
        {
          "name": "stderr",
          "output_type": "stream",
          "text": [
            "Epoch 2: 100%|██████████| 2850/2850 [01:20<00:00, 35.39it/s, loss=13.6217]\n"
          ]
        },
        {
          "name": "stdout",
          "output_type": "stream",
          "text": [
            "{'train_loss': 13.6019, 'train_time_s': 80.53, 'val_loss': 12.3554, 'val_time_s': 33.64, 'epoch': 2}\n"
          ]
        },
        {
          "name": "stderr",
          "output_type": "stream",
          "text": [
            "Epoch 3: 100%|██████████| 2850/2850 [01:19<00:00, 35.89it/s, loss=12.1880]\n"
          ]
        },
        {
          "name": "stdout",
          "output_type": "stream",
          "text": [
            "{'train_loss': 12.186, 'train_time_s': 79.41, 'val_loss': 12.0155, 'val_time_s': 32.99, 'epoch': 3}\n"
          ]
        },
        {
          "name": "stderr",
          "output_type": "stream",
          "text": [
            "Epoch 4: 100%|██████████| 2850/2850 [01:18<00:00, 36.34it/s, loss=11.9598]\n"
          ]
        },
        {
          "name": "stdout",
          "output_type": "stream",
          "text": [
            "{'train_loss': 11.9576, 'train_time_s': 78.43, 'val_loss': 11.8198, 'val_time_s': 33.52, 'epoch': 4}\n"
          ]
        },
        {
          "name": "stderr",
          "output_type": "stream",
          "text": [
            "Epoch 5: 100%|██████████| 2850/2850 [01:19<00:00, 35.95it/s, loss=11.7123]\n"
          ]
        },
        {
          "name": "stdout",
          "output_type": "stream",
          "text": [
            "{'train_loss': 11.7107, 'train_time_s': 79.29, 'val_loss': 11.6314, 'val_time_s': 33.63, 'epoch': 5}\n"
          ]
        },
        {
          "name": "stderr",
          "output_type": "stream",
          "text": [
            "Epoch 6: 100%|██████████| 2850/2850 [01:17<00:00, 36.80it/s, loss=11.5370]\n"
          ]
        },
        {
          "name": "stdout",
          "output_type": "stream",
          "text": [
            "{'train_loss': 11.5361, 'train_time_s': 77.45, 'val_loss': 11.5181, 'val_time_s': 33.47, 'epoch': 6}\n"
          ]
        },
        {
          "name": "stderr",
          "output_type": "stream",
          "text": [
            "Epoch 7: 100%|██████████| 2850/2850 [01:16<00:00, 37.22it/s, loss=11.4220]\n"
          ]
        },
        {
          "name": "stdout",
          "output_type": "stream",
          "text": [
            "{'train_loss': 11.4214, 'train_time_s': 76.58, 'val_loss': 11.4369, 'val_time_s': 33.86, 'epoch': 7}\n"
          ]
        },
        {
          "name": "stderr",
          "output_type": "stream",
          "text": [
            "Epoch 8: 100%|██████████| 2850/2850 [01:18<00:00, 36.32it/s, loss=11.3388]\n"
          ]
        },
        {
          "name": "stdout",
          "output_type": "stream",
          "text": [
            "{'train_loss': 11.3385, 'train_time_s': 78.48, 'val_loss': 11.3839, 'val_time_s': 33.33, 'epoch': 8}\n"
          ]
        },
        {
          "name": "stderr",
          "output_type": "stream",
          "text": [
            "Epoch 9: 100%|██████████| 2850/2850 [01:17<00:00, 36.80it/s, loss=11.2762]\n"
          ]
        },
        {
          "name": "stdout",
          "output_type": "stream",
          "text": [
            "{'train_loss': 11.276, 'train_time_s': 77.46, 'val_loss': 11.3507, 'val_time_s': 34.1, 'epoch': 9}\n"
          ]
        },
        {
          "name": "stderr",
          "output_type": "stream",
          "text": [
            "Epoch 10: 100%|██████████| 2850/2850 [01:16<00:00, 37.25it/s, loss=11.2291]\n",
            "2025-07-30 22:48:07,065 [INFO] Peak GPU memory = 0.7105 GB\n"
          ]
        },
        {
          "name": "stdout",
          "output_type": "stream",
          "text": [
            "{'train_loss': 11.2291, 'train_time_s': 76.51, 'val_loss': 11.3276, 'val_time_s': 33.45, 'epoch': 10}\n"
          ]
        }
      ],
      "source": [
        "model_cce, res_cce, mem_cce = run_training(\n",
        "    model_class=SASRec,\n",
        "    num_items=num_items,\n",
        "    train_loader=train_loader,\n",
        "    val_loader=val_loader,\n",
        "    loss_type='CCE',\n",
        "    device=device,\n",
        "    n_epochs=10,\n",
        "    hidden_dim=64,\n",
        "    max_len=max_len,\n",
        "    lr=0.0001\n",
        ")"
      ]
    },
    {
      "cell_type": "code",
      "execution_count": null,
      "metadata": {
        "colab": {
          "base_uri": "https://localhost:8080/",
          "height": 359
        },
        "id": "Agj9z0KMXUsM",
        "outputId": "bbb0d1dc-5f58-4c58-bca1-1ccf6ead24bc"
      },
      "outputs": [
        {
          "data": {
            "application/vnd.google.colaboratory.intrinsic+json": {
              "summary": "{\n  \"name\": \"res_cce\",\n  \"rows\": 10,\n  \"fields\": [\n    {\n      \"column\": \"train_loss\",\n      \"properties\": {\n        \"dtype\": \"number\",\n        \"std\": 3.1871196275703935,\n        \"min\": 11.2291,\n        \"max\": 21.6363,\n        \"num_unique_values\": 10,\n        \"samples\": [\n          11.276,\n          13.6019,\n          11.5361\n        ],\n        \"semantic_type\": \"\",\n        \"description\": \"\"\n      }\n    },\n    {\n      \"column\": \"train_time_s\",\n      \"properties\": {\n        \"dtype\": \"number\",\n        \"std\": 1.3059134733970703,\n        \"min\": 76.51,\n        \"max\": 80.53,\n        \"num_unique_values\": 9,\n        \"samples\": [\n          77.46,\n          80.53,\n          76.58\n        ],\n        \"semantic_type\": \"\",\n        \"description\": \"\"\n      }\n    },\n    {\n      \"column\": \"val_loss\",\n      \"properties\": {\n        \"dtype\": \"number\",\n        \"std\": 1.1358934114705577,\n        \"min\": 11.3276,\n        \"max\": 15.0847,\n        \"num_unique_values\": 10,\n        \"samples\": [\n          11.3507,\n          12.3554,\n          11.5181\n        ],\n        \"semantic_type\": \"\",\n        \"description\": \"\"\n      }\n    },\n    {\n      \"column\": \"val_time_s\",\n      \"properties\": {\n        \"dtype\": \"number\",\n        \"std\": 0.30183880907972466,\n        \"min\": 32.99,\n        \"max\": 34.1,\n        \"num_unique_values\": 10,\n        \"samples\": [\n          34.1,\n          33.64,\n          33.47\n        ],\n        \"semantic_type\": \"\",\n        \"description\": \"\"\n      }\n    },\n    {\n      \"column\": \"epoch\",\n      \"properties\": {\n        \"dtype\": \"number\",\n        \"std\": 3,\n        \"min\": 1,\n        \"max\": 10,\n        \"num_unique_values\": 10,\n        \"samples\": [\n          9,\n          2,\n          6\n        ],\n        \"semantic_type\": \"\",\n        \"description\": \"\"\n      }\n    }\n  ]\n}",
              "type": "dataframe",
              "variable_name": "res_cce"
            },
            "text/html": [
              "\n",
              "  <div id=\"df-65386bc5-7c89-4ec1-b806-02c5d63acfda\" class=\"colab-df-container\">\n",
              "    <div>\n",
              "<style scoped>\n",
              "    .dataframe tbody tr th:only-of-type {\n",
              "        vertical-align: middle;\n",
              "    }\n",
              "\n",
              "    .dataframe tbody tr th {\n",
              "        vertical-align: top;\n",
              "    }\n",
              "\n",
              "    .dataframe thead th {\n",
              "        text-align: right;\n",
              "    }\n",
              "</style>\n",
              "<table border=\"1\" class=\"dataframe\">\n",
              "  <thead>\n",
              "    <tr style=\"text-align: right;\">\n",
              "      <th></th>\n",
              "      <th>train_loss</th>\n",
              "      <th>train_time_s</th>\n",
              "      <th>val_loss</th>\n",
              "      <th>val_time_s</th>\n",
              "      <th>epoch</th>\n",
              "    </tr>\n",
              "  </thead>\n",
              "  <tbody>\n",
              "    <tr>\n",
              "      <th>0</th>\n",
              "      <td>21.6363</td>\n",
              "      <td>77.45</td>\n",
              "      <td>15.0847</td>\n",
              "      <td>33.73</td>\n",
              "      <td>1</td>\n",
              "    </tr>\n",
              "    <tr>\n",
              "      <th>1</th>\n",
              "      <td>13.6019</td>\n",
              "      <td>80.53</td>\n",
              "      <td>12.3554</td>\n",
              "      <td>33.64</td>\n",
              "      <td>2</td>\n",
              "    </tr>\n",
              "    <tr>\n",
              "      <th>2</th>\n",
              "      <td>12.1860</td>\n",
              "      <td>79.41</td>\n",
              "      <td>12.0155</td>\n",
              "      <td>32.99</td>\n",
              "      <td>3</td>\n",
              "    </tr>\n",
              "    <tr>\n",
              "      <th>3</th>\n",
              "      <td>11.9576</td>\n",
              "      <td>78.43</td>\n",
              "      <td>11.8198</td>\n",
              "      <td>33.52</td>\n",
              "      <td>4</td>\n",
              "    </tr>\n",
              "    <tr>\n",
              "      <th>4</th>\n",
              "      <td>11.7107</td>\n",
              "      <td>79.29</td>\n",
              "      <td>11.6314</td>\n",
              "      <td>33.63</td>\n",
              "      <td>5</td>\n",
              "    </tr>\n",
              "    <tr>\n",
              "      <th>5</th>\n",
              "      <td>11.5361</td>\n",
              "      <td>77.45</td>\n",
              "      <td>11.5181</td>\n",
              "      <td>33.47</td>\n",
              "      <td>6</td>\n",
              "    </tr>\n",
              "    <tr>\n",
              "      <th>6</th>\n",
              "      <td>11.4214</td>\n",
              "      <td>76.58</td>\n",
              "      <td>11.4369</td>\n",
              "      <td>33.86</td>\n",
              "      <td>7</td>\n",
              "    </tr>\n",
              "    <tr>\n",
              "      <th>7</th>\n",
              "      <td>11.3385</td>\n",
              "      <td>78.48</td>\n",
              "      <td>11.3839</td>\n",
              "      <td>33.33</td>\n",
              "      <td>8</td>\n",
              "    </tr>\n",
              "    <tr>\n",
              "      <th>8</th>\n",
              "      <td>11.2760</td>\n",
              "      <td>77.46</td>\n",
              "      <td>11.3507</td>\n",
              "      <td>34.10</td>\n",
              "      <td>9</td>\n",
              "    </tr>\n",
              "    <tr>\n",
              "      <th>9</th>\n",
              "      <td>11.2291</td>\n",
              "      <td>76.51</td>\n",
              "      <td>11.3276</td>\n",
              "      <td>33.45</td>\n",
              "      <td>10</td>\n",
              "    </tr>\n",
              "  </tbody>\n",
              "</table>\n",
              "</div>\n",
              "    <div class=\"colab-df-buttons\">\n",
              "\n",
              "  <div class=\"colab-df-container\">\n",
              "    <button class=\"colab-df-convert\" onclick=\"convertToInteractive('df-65386bc5-7c89-4ec1-b806-02c5d63acfda')\"\n",
              "            title=\"Convert this dataframe to an interactive table.\"\n",
              "            style=\"display:none;\">\n",
              "\n",
              "  <svg xmlns=\"http://www.w3.org/2000/svg\" height=\"24px\" viewBox=\"0 -960 960 960\">\n",
              "    <path d=\"M120-120v-720h720v720H120Zm60-500h600v-160H180v160Zm220 220h160v-160H400v160Zm0 220h160v-160H400v160ZM180-400h160v-160H180v160Zm440 0h160v-160H620v160ZM180-180h160v-160H180v160Zm440 0h160v-160H620v160Z\"/>\n",
              "  </svg>\n",
              "    </button>\n",
              "\n",
              "  <style>\n",
              "    .colab-df-container {\n",
              "      display:flex;\n",
              "      gap: 12px;\n",
              "    }\n",
              "\n",
              "    .colab-df-convert {\n",
              "      background-color: #E8F0FE;\n",
              "      border: none;\n",
              "      border-radius: 50%;\n",
              "      cursor: pointer;\n",
              "      display: none;\n",
              "      fill: #1967D2;\n",
              "      height: 32px;\n",
              "      padding: 0 0 0 0;\n",
              "      width: 32px;\n",
              "    }\n",
              "\n",
              "    .colab-df-convert:hover {\n",
              "      background-color: #E2EBFA;\n",
              "      box-shadow: 0px 1px 2px rgba(60, 64, 67, 0.3), 0px 1px 3px 1px rgba(60, 64, 67, 0.15);\n",
              "      fill: #174EA6;\n",
              "    }\n",
              "\n",
              "    .colab-df-buttons div {\n",
              "      margin-bottom: 4px;\n",
              "    }\n",
              "\n",
              "    [theme=dark] .colab-df-convert {\n",
              "      background-color: #3B4455;\n",
              "      fill: #D2E3FC;\n",
              "    }\n",
              "\n",
              "    [theme=dark] .colab-df-convert:hover {\n",
              "      background-color: #434B5C;\n",
              "      box-shadow: 0px 1px 3px 1px rgba(0, 0, 0, 0.15);\n",
              "      filter: drop-shadow(0px 1px 2px rgba(0, 0, 0, 0.3));\n",
              "      fill: #FFFFFF;\n",
              "    }\n",
              "  </style>\n",
              "\n",
              "    <script>\n",
              "      const buttonEl =\n",
              "        document.querySelector('#df-65386bc5-7c89-4ec1-b806-02c5d63acfda button.colab-df-convert');\n",
              "      buttonEl.style.display =\n",
              "        google.colab.kernel.accessAllowed ? 'block' : 'none';\n",
              "\n",
              "      async function convertToInteractive(key) {\n",
              "        const element = document.querySelector('#df-65386bc5-7c89-4ec1-b806-02c5d63acfda');\n",
              "        const dataTable =\n",
              "          await google.colab.kernel.invokeFunction('convertToInteractive',\n",
              "                                                    [key], {});\n",
              "        if (!dataTable) return;\n",
              "\n",
              "        const docLinkHtml = 'Like what you see? Visit the ' +\n",
              "          '<a target=\"_blank\" href=https://colab.research.google.com/notebooks/data_table.ipynb>data table notebook</a>'\n",
              "          + ' to learn more about interactive tables.';\n",
              "        element.innerHTML = '';\n",
              "        dataTable['output_type'] = 'display_data';\n",
              "        await google.colab.output.renderOutput(dataTable, element);\n",
              "        const docLink = document.createElement('div');\n",
              "        docLink.innerHTML = docLinkHtml;\n",
              "        element.appendChild(docLink);\n",
              "      }\n",
              "    </script>\n",
              "  </div>\n",
              "\n",
              "\n",
              "    <div id=\"df-7da306ba-d07d-496c-8674-52d2fc24344b\">\n",
              "      <button class=\"colab-df-quickchart\" onclick=\"quickchart('df-7da306ba-d07d-496c-8674-52d2fc24344b')\"\n",
              "                title=\"Suggest charts\"\n",
              "                style=\"display:none;\">\n",
              "\n",
              "<svg xmlns=\"http://www.w3.org/2000/svg\" height=\"24px\"viewBox=\"0 0 24 24\"\n",
              "     width=\"24px\">\n",
              "    <g>\n",
              "        <path d=\"M19 3H5c-1.1 0-2 .9-2 2v14c0 1.1.9 2 2 2h14c1.1 0 2-.9 2-2V5c0-1.1-.9-2-2-2zM9 17H7v-7h2v7zm4 0h-2V7h2v10zm4 0h-2v-4h2v4z\"/>\n",
              "    </g>\n",
              "</svg>\n",
              "      </button>\n",
              "\n",
              "<style>\n",
              "  .colab-df-quickchart {\n",
              "      --bg-color: #E8F0FE;\n",
              "      --fill-color: #1967D2;\n",
              "      --hover-bg-color: #E2EBFA;\n",
              "      --hover-fill-color: #174EA6;\n",
              "      --disabled-fill-color: #AAA;\n",
              "      --disabled-bg-color: #DDD;\n",
              "  }\n",
              "\n",
              "  [theme=dark] .colab-df-quickchart {\n",
              "      --bg-color: #3B4455;\n",
              "      --fill-color: #D2E3FC;\n",
              "      --hover-bg-color: #434B5C;\n",
              "      --hover-fill-color: #FFFFFF;\n",
              "      --disabled-bg-color: #3B4455;\n",
              "      --disabled-fill-color: #666;\n",
              "  }\n",
              "\n",
              "  .colab-df-quickchart {\n",
              "    background-color: var(--bg-color);\n",
              "    border: none;\n",
              "    border-radius: 50%;\n",
              "    cursor: pointer;\n",
              "    display: none;\n",
              "    fill: var(--fill-color);\n",
              "    height: 32px;\n",
              "    padding: 0;\n",
              "    width: 32px;\n",
              "  }\n",
              "\n",
              "  .colab-df-quickchart:hover {\n",
              "    background-color: var(--hover-bg-color);\n",
              "    box-shadow: 0 1px 2px rgba(60, 64, 67, 0.3), 0 1px 3px 1px rgba(60, 64, 67, 0.15);\n",
              "    fill: var(--button-hover-fill-color);\n",
              "  }\n",
              "\n",
              "  .colab-df-quickchart-complete:disabled,\n",
              "  .colab-df-quickchart-complete:disabled:hover {\n",
              "    background-color: var(--disabled-bg-color);\n",
              "    fill: var(--disabled-fill-color);\n",
              "    box-shadow: none;\n",
              "  }\n",
              "\n",
              "  .colab-df-spinner {\n",
              "    border: 2px solid var(--fill-color);\n",
              "    border-color: transparent;\n",
              "    border-bottom-color: var(--fill-color);\n",
              "    animation:\n",
              "      spin 1s steps(1) infinite;\n",
              "  }\n",
              "\n",
              "  @keyframes spin {\n",
              "    0% {\n",
              "      border-color: transparent;\n",
              "      border-bottom-color: var(--fill-color);\n",
              "      border-left-color: var(--fill-color);\n",
              "    }\n",
              "    20% {\n",
              "      border-color: transparent;\n",
              "      border-left-color: var(--fill-color);\n",
              "      border-top-color: var(--fill-color);\n",
              "    }\n",
              "    30% {\n",
              "      border-color: transparent;\n",
              "      border-left-color: var(--fill-color);\n",
              "      border-top-color: var(--fill-color);\n",
              "      border-right-color: var(--fill-color);\n",
              "    }\n",
              "    40% {\n",
              "      border-color: transparent;\n",
              "      border-right-color: var(--fill-color);\n",
              "      border-top-color: var(--fill-color);\n",
              "    }\n",
              "    60% {\n",
              "      border-color: transparent;\n",
              "      border-right-color: var(--fill-color);\n",
              "    }\n",
              "    80% {\n",
              "      border-color: transparent;\n",
              "      border-right-color: var(--fill-color);\n",
              "      border-bottom-color: var(--fill-color);\n",
              "    }\n",
              "    90% {\n",
              "      border-color: transparent;\n",
              "      border-bottom-color: var(--fill-color);\n",
              "    }\n",
              "  }\n",
              "</style>\n",
              "\n",
              "      <script>\n",
              "        async function quickchart(key) {\n",
              "          const quickchartButtonEl =\n",
              "            document.querySelector('#' + key + ' button');\n",
              "          quickchartButtonEl.disabled = true;  // To prevent multiple clicks.\n",
              "          quickchartButtonEl.classList.add('colab-df-spinner');\n",
              "          try {\n",
              "            const charts = await google.colab.kernel.invokeFunction(\n",
              "                'suggestCharts', [key], {});\n",
              "          } catch (error) {\n",
              "            console.error('Error during call to suggestCharts:', error);\n",
              "          }\n",
              "          quickchartButtonEl.classList.remove('colab-df-spinner');\n",
              "          quickchartButtonEl.classList.add('colab-df-quickchart-complete');\n",
              "        }\n",
              "        (() => {\n",
              "          let quickchartButtonEl =\n",
              "            document.querySelector('#df-7da306ba-d07d-496c-8674-52d2fc24344b button');\n",
              "          quickchartButtonEl.style.display =\n",
              "            google.colab.kernel.accessAllowed ? 'block' : 'none';\n",
              "        })();\n",
              "      </script>\n",
              "    </div>\n",
              "    </div>\n",
              "  </div>\n"
            ],
            "text/plain": [
              "   train_loss  train_time_s  val_loss  val_time_s  epoch\n",
              "0     21.6363         77.45   15.0847       33.73      1\n",
              "1     13.6019         80.53   12.3554       33.64      2\n",
              "2     12.1860         79.41   12.0155       32.99      3\n",
              "3     11.9576         78.43   11.8198       33.52      4\n",
              "4     11.7107         79.29   11.6314       33.63      5\n",
              "5     11.5361         77.45   11.5181       33.47      6\n",
              "6     11.4214         76.58   11.4369       33.86      7\n",
              "7     11.3385         78.48   11.3839       33.33      8\n",
              "8     11.2760         77.46   11.3507       34.10      9\n",
              "9     11.2291         76.51   11.3276       33.45     10"
            ]
          },
          "execution_count": 18,
          "metadata": {},
          "output_type": "execute_result"
        }
      ],
      "source": [
        "res_cce"
      ]
    },
    {
      "cell_type": "code",
      "execution_count": null,
      "metadata": {
        "colab": {
          "base_uri": "https://localhost:8080/"
        },
        "id": "-3esos9jPCFJ",
        "outputId": "4cfd3107-21cd-47e7-e868-d605a354f043"
      },
      "outputs": [
        {
          "name": "stdout",
          "output_type": "stream",
          "text": [
            "Среднее время обучения на одну эпоху = 78 с\n",
            "Максимальная память = 0.7105245590209961 ГБ\n"
          ]
        }
      ],
      "source": [
        "print(f'Среднее время обучения на одну эпоху = {int(res_cce.train_time_s.mean())} с')\n",
        "print(f'Максимальная память = {mem_cce} ГБ')"
      ]
    },
    {
      "cell_type": "code",
      "execution_count": null,
      "metadata": {
        "colab": {
          "base_uri": "https://localhost:8080/",
          "height": 393
        },
        "id": "i2LpJsjQaYsj",
        "outputId": "8284877a-d020-40b0-bc9a-ccb4dad3bc6c"
      },
      "outputs": [
        {
          "data": {
            "image/png": "[encoded data removed]",
            "text/plain": [
              "<Figure size 800x400 with 1 Axes>"
            ]
          },
          "metadata": {},
          "output_type": "display_data"
        }
      ],
      "source": [
        "plot_loss(res_cce)"
      ]
    },
    {
      "cell_type": "markdown",
      "metadata": {
        "id": "PHURLoo8GpXo"
      },
      "source": [
        "### 4. Тестирование"
      ]
    },
    {
      "cell_type": "markdown",
      "metadata": {
        "id": "EkJyF6EeGvq0"
      },
      "source": [
        "#### 4.1 CE Loss"
      ]
    },
    {
      "cell_type": "code",
      "execution_count": null,
      "metadata": {
        "colab": {
          "base_uri": "https://localhost:8080/"
        },
        "id": "kn_3rWc0UycO",
        "outputId": "3467a28a-c6c8-4447-eb5d-bb66ab759091"
      },
      "outputs": [
        {
          "name": "stderr",
          "output_type": "stream",
          "text": [
            "100%|██████████| 2850/2850 [01:27<00:00, 32.42it/s]\n"
          ]
        }
      ],
      "source": [
        "scores_ce = evaluate(model_ce, test_loader, device)"
      ]
    },
    {
      "cell_type": "code",
      "execution_count": null,
      "metadata": {
        "colab": {
          "base_uri": "https://localhost:8080/"
        },
        "id": "MzE02HpwdVDH",
        "outputId": "9d29cf16-5d17-4eec-9437-5b3469525fa5"
      },
      "outputs": [
        {
          "data": {
            "text/plain": [
              "{'HitRate@10': 0.009277,\n",
              " 'NDCG@10': 0.005239,\n",
              " 'Coverage@10': 0.01083,\n",
              " 'Surprisal@10': 0.395284}"
            ]
          },
          "execution_count": 22,
          "metadata": {},
          "output_type": "execute_result"
        }
      ],
      "source": [
        "metrics = Metrics(k=10, train=train_data)\n",
        "metrics.compute(scores_ce)"
      ]
    },
    {
      "cell_type": "markdown",
      "metadata": {
        "id": "dqNNujuGGz15"
      },
      "source": [
        "#### 4.2 CCE Loss"
      ]
    },
    {
      "cell_type": "code",
      "execution_count": null,
      "metadata": {
        "colab": {
          "base_uri": "https://localhost:8080/"
        },
        "id": "txBG9vJCqJm8",
        "outputId": "03940195-6681-42bf-9abb-235f41324870"
      },
      "outputs": [
        {
          "name": "stderr",
          "output_type": "stream",
          "text": [
            "100%|██████████| 2850/2850 [01:28<00:00, 32.04it/s]\n"
          ]
        }
      ],
      "source": [
        "scores_cce = evaluate(model_cce, test_loader, device)"
      ]
    },
    {
      "cell_type": "code",
      "execution_count": null,
      "metadata": {
        "colab": {
          "base_uri": "https://localhost:8080/"
        },
        "id": "7HqOz2_QPRbN",
        "outputId": "9066b638-812d-491d-a61a-a47a22516539"
      },
      "outputs": [
        {
          "data": {
            "text/plain": [
              "{'HitRate@10': 0.009655,\n",
              " 'NDCG@10': 0.005392,\n",
              " 'Coverage@10': 0.00013,\n",
              " 'Surprisal@10': 0.389152}"
            ]
          },
          "execution_count": 24,
          "metadata": {},
          "output_type": "execute_result"
        }
      ],
      "source": [
        "metrics = Metrics(k=10, train=train_data)\n",
        "metrics.compute(scores_cce)"
      ]
    }
  ],
  "metadata": {
    "accelerator": "GPU",
    "colab": {
      "gpuType": "T4",
      "provenance": []
    },
    "kernelspec": {
      "display_name": "Python 3",
      "name": "python3"
    },
    "language_info": {
      "codemirror_mode": {
        "name": "ipython",
        "version": 3
      },
      "file_extension": ".py",
      "mimetype": "text/x-python",
      "name": "python",
      "nbconvert_exporter": "python",
      "pygments_lexer": "ipython3",
      "version": "3.9.6"
    }
  },
  "nbformat": 4,
  "nbformat_minor": 0
}
